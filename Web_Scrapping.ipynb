{
 "cells": [
  {
   "cell_type": "markdown",
   "metadata": {},
   "source": [
    "##### Importing required libraries"
   ]
  },
  {
   "cell_type": "code",
   "execution_count": 1,
   "metadata": {},
   "outputs": [],
   "source": [
    "import requests # getting url data\n",
    "from bs4 import BeautifulSoup # data parsing library\n",
    "import numpy as np # data handling library\n",
    "import pandas as pd # data manipulation library\n",
    "import matplotlib.pyplot as plt # data visualization library\n",
    "import seaborn as sns # data visualization library"
   ]
  },
  {
   "cell_type": "markdown",
   "metadata": {},
   "source": [
    "## Web Scrapping Part"
   ]
  },
  {
   "cell_type": "code",
   "execution_count": 2,
   "metadata": {},
   "outputs": [],
   "source": [
    "url = r'https://www.worldometers.info/world-population/population-by-country/' # URL to fetch\n",
    " \n",
    "page = requests.get(url) # getting data from URL and assigning it\n",
    "\n",
    "soup = BeautifulSoup(page.content, 'html.parser') # creating soup object\n",
    "\n",
    "table_data = soup.find(id= \"example2\") # getting html data by id\n",
    "\n",
    "headers = table_data.find_all('th') # getting html data by table head\n",
    "variables = [] # empty list for variable names for our dataset\n",
    "for i in headers: # iterating in table head values\n",
    "    variables.append(i.text) # adding in our empty list\n",
    "variables.remove('#') # removing first values that was #\n",
    "variables.insert(0,'Index') # inserting Index as values at first position\n",
    "row_data = [] # empty list for observation data for our dataset\n",
    "table_rows = table_data.find_all('tr') # getting html data by table rows\n",
    "for tr in table_rows: # iterating in table rows values\n",
    "    td = tr.find_all('td') # getting html data by tag table data\n",
    "    row = [tr.text for tr in td] # getting text of table data\n",
    "    row_data.append(row) # adding in our empty list row data\n",
    "del row_data[0] # deleting first entry as it was empty data\n",
    "\n",
    "\n",
    "df = pd.DataFrame(row_data,columns=variables) # making Dataframe from the scrapped data\n",
    "# df.to_csv('worldometer.csv') # run for first time only to create a csv of extracted data\n"
   ]
  },
  {
   "cell_type": "markdown",
   "metadata": {},
   "source": [
    "## Analysis Part"
   ]
  },
  {
   "cell_type": "markdown",
   "metadata": {},
   "source": [
    "### **Introduction**\n",
    "\n",
    "This URL is of WorldoMeter page.\n",
    "\n",
    "Worldometer is run by an international team of developers, researchers, and volunteers with the goal of making world statistics available in a thought-provoking and time relevant format to a wide audience around the world. It is published by a small and independent digital media company based in the United States.\n",
    "\n",
    "**How it works**\n",
    "\n",
    "For the COVID-19 data, they collect data from official reports, directly from Government's communication channels or indirectly, through local media sources when deemed reliable. They provide the source of each data update in the \"Latest Updates\" (News) section. Timely updates are made possible thanks to the participation of users around the world and to the dedication of a team of analysts and researchers who validate data from an ever-growing list of over 5,000 sources.\n",
    "\n",
    "\n",
    "| **Variable**| **Description**| **Type** |\n",
    "| - | - | - |\n",
    "|**Index**| Index number of the dataset |categorical|\n",
    "|**Country (or dependency)**| Country names |categorical|\n",
    "|**Population (2020)**| Total population in country |numerical|\n",
    "|**Yearly Change**| Change percentage by year |numerical|\n",
    "|**Net Change**| total Change in numbers |numerical|\n",
    "|**Density (P/KmÂ²)**| Density of the country |numerical|\n",
    "|**Land Area (KmÂ²)**| Total land area |numerical|\n",
    "|**Migrants (net)**| Migrants Population |numerical|\n",
    "|**Fert. Rate**| Fertility Rate |numerical|\n",
    "|**Med. Age**| Median Age |numerical|\n",
    "|**Urban Pop %**| Urban population in percentge |numerical|\n",
    "|**World Share**| World share in percentge |numerical|\n",
    "\n",
    "\n",
    "\n",
    "Count of variables we have:\n",
    "\n",
    "|**Type**|**Count**|\n",
    "|-|-|\n",
    "|**categorical**|2|\n",
    "|**numerical**|10|"
   ]
  },
  {
   "cell_type": "markdown",
   "metadata": {},
   "source": [
    "#### **Number of variables and observation we have scrapped**"
   ]
  },
  {
   "cell_type": "code",
   "execution_count": 3,
   "metadata": {},
   "outputs": [
    {
     "data": {
      "text/plain": [
       "(235, 12)"
      ]
     },
     "execution_count": 3,
     "metadata": {},
     "output_type": "execute_result"
    }
   ],
   "source": [
    "df.shape # shape of our data"
   ]
  },
  {
   "cell_type": "code",
   "execution_count": 4,
   "metadata": {},
   "outputs": [
    {
     "name": "stdout",
     "output_type": "stream",
     "text": [
      "Number of observations    :  235\n",
      "Number of variables       :  12\n"
     ]
    }
   ],
   "source": [
    "print('Number of observations    : ', df.shape[0]) # number of rows in dataset\n",
    "print('Number of variables       : ', df.shape[1]) # number of columns in dataset"
   ]
  },
  {
   "cell_type": "code",
   "execution_count": 5,
   "metadata": {},
   "outputs": [
    {
     "data": {
      "text/plain": [
       "(235, 12)"
      ]
     },
     "execution_count": 5,
     "metadata": {},
     "output_type": "execute_result"
    }
   ],
   "source": [
    "df = df.drop_duplicates() # dropping duplicates\n",
    "df.shape # checking shape of data after dropping duplicates"
   ]
  },
  {
   "cell_type": "code",
   "execution_count": 6,
   "metadata": {},
   "outputs": [
    {
     "data": {
      "text/plain": [
       "Index(['Index', 'Country (or dependency)', 'Population (2020)',\n",
       "       'Yearly Change', 'Net Change', 'Density (P/Km²)', 'Land Area (Km²)',\n",
       "       'Migrants (net)', 'Fert. Rate', 'Med. Age', 'Urban Pop %',\n",
       "       'World Share'],\n",
       "      dtype='object')"
      ]
     },
     "execution_count": 6,
     "metadata": {},
     "output_type": "execute_result"
    }
   ],
   "source": [
    "df.columns # columns we have in our dataset\n"
   ]
  },
  {
   "cell_type": "code",
   "execution_count": 7,
   "metadata": {},
   "outputs": [],
   "source": [
    "df = df.drop(columns='Index') # dropping Index as we pandas already have that"
   ]
  },
  {
   "cell_type": "markdown",
   "metadata": {},
   "source": [
    "#### **Checking for any missing value in the scrapped dataset.**"
   ]
  },
  {
   "cell_type": "code",
   "execution_count": 8,
   "metadata": {},
   "outputs": [
    {
     "data": {
      "text/html": [
       "<div>\n",
       "<style scoped>\n",
       "    .dataframe tbody tr th:only-of-type {\n",
       "        vertical-align: middle;\n",
       "    }\n",
       "\n",
       "    .dataframe tbody tr th {\n",
       "        vertical-align: top;\n",
       "    }\n",
       "\n",
       "    .dataframe thead th {\n",
       "        text-align: right;\n",
       "    }\n",
       "</style>\n",
       "<table border=\"1\" class=\"dataframe\">\n",
       "  <thead>\n",
       "    <tr style=\"text-align: right;\">\n",
       "      <th></th>\n",
       "      <th>Country (or dependency)</th>\n",
       "      <th>Population (2020)</th>\n",
       "      <th>Yearly Change</th>\n",
       "      <th>Net Change</th>\n",
       "      <th>Density (P/Km²)</th>\n",
       "      <th>Land Area (Km²)</th>\n",
       "      <th>Migrants (net)</th>\n",
       "      <th>Fert. Rate</th>\n",
       "      <th>Med. Age</th>\n",
       "      <th>Urban Pop %</th>\n",
       "      <th>World Share</th>\n",
       "    </tr>\n",
       "  </thead>\n",
       "  <tbody>\n",
       "    <tr>\n",
       "      <th>0</th>\n",
       "      <td>China</td>\n",
       "      <td>1,439,323,776</td>\n",
       "      <td>0.39 %</td>\n",
       "      <td>5,540,090</td>\n",
       "      <td>153</td>\n",
       "      <td>9,388,211</td>\n",
       "      <td>-348,399</td>\n",
       "      <td>1.7</td>\n",
       "      <td>38</td>\n",
       "      <td>61 %</td>\n",
       "      <td>18.47 %</td>\n",
       "    </tr>\n",
       "    <tr>\n",
       "      <th>1</th>\n",
       "      <td>India</td>\n",
       "      <td>1,380,004,385</td>\n",
       "      <td>0.99 %</td>\n",
       "      <td>13,586,631</td>\n",
       "      <td>464</td>\n",
       "      <td>2,973,190</td>\n",
       "      <td>-532,687</td>\n",
       "      <td>2.2</td>\n",
       "      <td>28</td>\n",
       "      <td>35 %</td>\n",
       "      <td>17.70 %</td>\n",
       "    </tr>\n",
       "    <tr>\n",
       "      <th>2</th>\n",
       "      <td>United States</td>\n",
       "      <td>331,002,651</td>\n",
       "      <td>0.59 %</td>\n",
       "      <td>1,937,734</td>\n",
       "      <td>36</td>\n",
       "      <td>9,147,420</td>\n",
       "      <td>954,806</td>\n",
       "      <td>1.8</td>\n",
       "      <td>38</td>\n",
       "      <td>83 %</td>\n",
       "      <td>4.25 %</td>\n",
       "    </tr>\n",
       "    <tr>\n",
       "      <th>3</th>\n",
       "      <td>Indonesia</td>\n",
       "      <td>273,523,615</td>\n",
       "      <td>1.07 %</td>\n",
       "      <td>2,898,047</td>\n",
       "      <td>151</td>\n",
       "      <td>1,811,570</td>\n",
       "      <td>-98,955</td>\n",
       "      <td>2.3</td>\n",
       "      <td>30</td>\n",
       "      <td>56 %</td>\n",
       "      <td>3.51 %</td>\n",
       "    </tr>\n",
       "    <tr>\n",
       "      <th>4</th>\n",
       "      <td>Pakistan</td>\n",
       "      <td>220,892,340</td>\n",
       "      <td>2.00 %</td>\n",
       "      <td>4,327,022</td>\n",
       "      <td>287</td>\n",
       "      <td>770,880</td>\n",
       "      <td>-233,379</td>\n",
       "      <td>3.6</td>\n",
       "      <td>23</td>\n",
       "      <td>35 %</td>\n",
       "      <td>2.83 %</td>\n",
       "    </tr>\n",
       "  </tbody>\n",
       "</table>\n",
       "</div>"
      ],
      "text/plain": [
       "  Country (or dependency) Population (2020) Yearly Change  Net Change  \\\n",
       "0                   China     1,439,323,776        0.39 %   5,540,090   \n",
       "1                   India     1,380,004,385        0.99 %  13,586,631   \n",
       "2           United States       331,002,651        0.59 %   1,937,734   \n",
       "3               Indonesia       273,523,615        1.07 %   2,898,047   \n",
       "4                Pakistan       220,892,340        2.00 %   4,327,022   \n",
       "\n",
       "  Density (P/Km²) Land Area (Km²) Migrants (net) Fert. Rate Med. Age  \\\n",
       "0             153       9,388,211       -348,399        1.7       38   \n",
       "1             464       2,973,190       -532,687        2.2       28   \n",
       "2              36       9,147,420        954,806        1.8       38   \n",
       "3             151       1,811,570        -98,955        2.3       30   \n",
       "4             287         770,880       -233,379        3.6       23   \n",
       "\n",
       "  Urban Pop % World Share  \n",
       "0        61 %     18.47 %  \n",
       "1        35 %     17.70 %  \n",
       "2        83 %      4.25 %  \n",
       "3        56 %      3.51 %  \n",
       "4        35 %      2.83 %  "
      ]
     },
     "execution_count": 8,
     "metadata": {},
     "output_type": "execute_result"
    }
   ],
   "source": [
    "df.head() # viewing first 5 rows"
   ]
  },
  {
   "cell_type": "code",
   "execution_count": 9,
   "metadata": {},
   "outputs": [
    {
     "data": {
      "text/html": [
       "<div>\n",
       "<style scoped>\n",
       "    .dataframe tbody tr th:only-of-type {\n",
       "        vertical-align: middle;\n",
       "    }\n",
       "\n",
       "    .dataframe tbody tr th {\n",
       "        vertical-align: top;\n",
       "    }\n",
       "\n",
       "    .dataframe thead th {\n",
       "        text-align: right;\n",
       "    }\n",
       "</style>\n",
       "<table border=\"1\" class=\"dataframe\">\n",
       "  <thead>\n",
       "    <tr style=\"text-align: right;\">\n",
       "      <th></th>\n",
       "      <th>Country (or dependency)</th>\n",
       "      <th>Population (2020)</th>\n",
       "      <th>Yearly Change</th>\n",
       "      <th>Net Change</th>\n",
       "      <th>Density (P/Km²)</th>\n",
       "      <th>Land Area (Km²)</th>\n",
       "      <th>Migrants (net)</th>\n",
       "      <th>Fert. Rate</th>\n",
       "      <th>Med. Age</th>\n",
       "      <th>Urban Pop %</th>\n",
       "      <th>World Share</th>\n",
       "    </tr>\n",
       "  </thead>\n",
       "  <tbody>\n",
       "    <tr>\n",
       "      <th>230</th>\n",
       "      <td>Montserrat</td>\n",
       "      <td>4,992</td>\n",
       "      <td>0.06 %</td>\n",
       "      <td>3</td>\n",
       "      <td>50</td>\n",
       "      <td>100</td>\n",
       "      <td></td>\n",
       "      <td>N.A.</td>\n",
       "      <td>N.A.</td>\n",
       "      <td>10 %</td>\n",
       "      <td>0.00 %</td>\n",
       "    </tr>\n",
       "    <tr>\n",
       "      <th>231</th>\n",
       "      <td>Falkland Islands</td>\n",
       "      <td>3,480</td>\n",
       "      <td>3.05 %</td>\n",
       "      <td>103</td>\n",
       "      <td>0</td>\n",
       "      <td>12,170</td>\n",
       "      <td></td>\n",
       "      <td>N.A.</td>\n",
       "      <td>N.A.</td>\n",
       "      <td>66 %</td>\n",
       "      <td>0.00 %</td>\n",
       "    </tr>\n",
       "    <tr>\n",
       "      <th>232</th>\n",
       "      <td>Niue</td>\n",
       "      <td>1,626</td>\n",
       "      <td>0.68 %</td>\n",
       "      <td>11</td>\n",
       "      <td>6</td>\n",
       "      <td>260</td>\n",
       "      <td></td>\n",
       "      <td>N.A.</td>\n",
       "      <td>N.A.</td>\n",
       "      <td>46 %</td>\n",
       "      <td>0.00 %</td>\n",
       "    </tr>\n",
       "    <tr>\n",
       "      <th>233</th>\n",
       "      <td>Tokelau</td>\n",
       "      <td>1,357</td>\n",
       "      <td>1.27 %</td>\n",
       "      <td>17</td>\n",
       "      <td>136</td>\n",
       "      <td>10</td>\n",
       "      <td></td>\n",
       "      <td>N.A.</td>\n",
       "      <td>N.A.</td>\n",
       "      <td>0 %</td>\n",
       "      <td>0.00 %</td>\n",
       "    </tr>\n",
       "    <tr>\n",
       "      <th>234</th>\n",
       "      <td>Holy See</td>\n",
       "      <td>801</td>\n",
       "      <td>0.25 %</td>\n",
       "      <td>2</td>\n",
       "      <td>2,003</td>\n",
       "      <td>0</td>\n",
       "      <td></td>\n",
       "      <td>N.A.</td>\n",
       "      <td>N.A.</td>\n",
       "      <td>N.A.</td>\n",
       "      <td>0.00 %</td>\n",
       "    </tr>\n",
       "  </tbody>\n",
       "</table>\n",
       "</div>"
      ],
      "text/plain": [
       "    Country (or dependency) Population (2020) Yearly Change Net Change  \\\n",
       "230              Montserrat             4,992        0.06 %          3   \n",
       "231        Falkland Islands             3,480        3.05 %        103   \n",
       "232                    Niue             1,626        0.68 %         11   \n",
       "233                 Tokelau             1,357        1.27 %         17   \n",
       "234                Holy See               801        0.25 %          2   \n",
       "\n",
       "    Density (P/Km²) Land Area (Km²) Migrants (net) Fert. Rate Med. Age  \\\n",
       "230              50             100                      N.A.     N.A.   \n",
       "231               0          12,170                      N.A.     N.A.   \n",
       "232               6             260                      N.A.     N.A.   \n",
       "233             136              10                      N.A.     N.A.   \n",
       "234           2,003               0                      N.A.     N.A.   \n",
       "\n",
       "    Urban Pop % World Share  \n",
       "230        10 %      0.00 %  \n",
       "231        66 %      0.00 %  \n",
       "232        46 %      0.00 %  \n",
       "233         0 %      0.00 %  \n",
       "234        N.A.      0.00 %  "
      ]
     },
     "execution_count": 9,
     "metadata": {},
     "output_type": "execute_result"
    }
   ],
   "source": [
    "df.tail() # viewing last 5 rows"
   ]
  },
  {
   "cell_type": "markdown",
   "metadata": {},
   "source": [
    "- we can see that there are null values written as N.A. in our dataset\n",
    "- also we have blank values in migrants variable which can be considered as null values"
   ]
  },
  {
   "cell_type": "code",
   "execution_count": 10,
   "metadata": {},
   "outputs": [
    {
     "name": "stdout",
     "output_type": "stream",
     "text": [
      "<class 'pandas.core.frame.DataFrame'>\n",
      "Int64Index: 235 entries, 0 to 234\n",
      "Data columns (total 11 columns):\n",
      " #   Column                   Non-Null Count  Dtype \n",
      "---  ------                   --------------  ----- \n",
      " 0   Country (or dependency)  235 non-null    object\n",
      " 1   Population (2020)        235 non-null    object\n",
      " 2   Yearly Change            235 non-null    object\n",
      " 3   Net Change               235 non-null    object\n",
      " 4   Density (P/Km²)          235 non-null    object\n",
      " 5   Land Area (Km²)          235 non-null    object\n",
      " 6   Migrants (net)           235 non-null    object\n",
      " 7   Fert. Rate               235 non-null    object\n",
      " 8   Med. Age                 235 non-null    object\n",
      " 9   Urban Pop %              235 non-null    object\n",
      " 10  World Share              235 non-null    object\n",
      "dtypes: object(11)\n",
      "memory usage: 22.0+ KB\n"
     ]
    }
   ],
   "source": [
    "df.info() # checking for null values and data types of variables"
   ]
  },
  {
   "cell_type": "code",
   "execution_count": 11,
   "metadata": {},
   "outputs": [
    {
     "data": {
      "text/plain": [
       "Country (or dependency)    0\n",
       "Population (2020)          0\n",
       "Yearly Change              0\n",
       "Net Change                 0\n",
       "Density (P/Km²)            0\n",
       "Land Area (Km²)            0\n",
       "Migrants (net)             0\n",
       "Fert. Rate                 0\n",
       "Med. Age                   0\n",
       "Urban Pop %                0\n",
       "World Share                0\n",
       "dtype: int64"
      ]
     },
     "execution_count": 11,
     "metadata": {},
     "output_type": "execute_result"
    }
   ],
   "source": [
    "df.isna().sum() # total null values in our dataset"
   ]
  },
  {
   "cell_type": "markdown",
   "metadata": {},
   "source": [
    "- null values are not reflecting here then they must be as string in our dataset\n",
    "- also many variables are wrongly readed"
   ]
  },
  {
   "cell_type": "code",
   "execution_count": 12,
   "metadata": {},
   "outputs": [],
   "source": [
    "df = df.replace({ \"N.A.\":np.nan}) # replacing N.A. values to nan values\n",
    "df = df.replace({ \" \":np.nan}) # replacing empty values to nan values"
   ]
  },
  {
   "cell_type": "code",
   "execution_count": 13,
   "metadata": {},
   "outputs": [
    {
     "data": {
      "text/html": [
       "<div>\n",
       "<style scoped>\n",
       "    .dataframe tbody tr th:only-of-type {\n",
       "        vertical-align: middle;\n",
       "    }\n",
       "\n",
       "    .dataframe tbody tr th {\n",
       "        vertical-align: top;\n",
       "    }\n",
       "\n",
       "    .dataframe thead th {\n",
       "        text-align: right;\n",
       "    }\n",
       "</style>\n",
       "<table border=\"1\" class=\"dataframe\">\n",
       "  <thead>\n",
       "    <tr style=\"text-align: right;\">\n",
       "      <th></th>\n",
       "      <th>Country (or dependency)</th>\n",
       "      <th>Population (2020)</th>\n",
       "      <th>Yearly Change</th>\n",
       "      <th>Net Change</th>\n",
       "      <th>Density (P/Km²)</th>\n",
       "      <th>Land Area (Km²)</th>\n",
       "      <th>Migrants (net)</th>\n",
       "      <th>Fert. Rate</th>\n",
       "      <th>Med. Age</th>\n",
       "      <th>Urban Pop %</th>\n",
       "      <th>World Share</th>\n",
       "    </tr>\n",
       "  </thead>\n",
       "  <tbody>\n",
       "    <tr>\n",
       "      <th>230</th>\n",
       "      <td>Montserrat</td>\n",
       "      <td>4,992</td>\n",
       "      <td>0.06 %</td>\n",
       "      <td>3</td>\n",
       "      <td>50</td>\n",
       "      <td>100</td>\n",
       "      <td>NaN</td>\n",
       "      <td>NaN</td>\n",
       "      <td>NaN</td>\n",
       "      <td>10 %</td>\n",
       "      <td>0.00 %</td>\n",
       "    </tr>\n",
       "    <tr>\n",
       "      <th>231</th>\n",
       "      <td>Falkland Islands</td>\n",
       "      <td>3,480</td>\n",
       "      <td>3.05 %</td>\n",
       "      <td>103</td>\n",
       "      <td>0</td>\n",
       "      <td>12,170</td>\n",
       "      <td>NaN</td>\n",
       "      <td>NaN</td>\n",
       "      <td>NaN</td>\n",
       "      <td>66 %</td>\n",
       "      <td>0.00 %</td>\n",
       "    </tr>\n",
       "    <tr>\n",
       "      <th>232</th>\n",
       "      <td>Niue</td>\n",
       "      <td>1,626</td>\n",
       "      <td>0.68 %</td>\n",
       "      <td>11</td>\n",
       "      <td>6</td>\n",
       "      <td>260</td>\n",
       "      <td>NaN</td>\n",
       "      <td>NaN</td>\n",
       "      <td>NaN</td>\n",
       "      <td>46 %</td>\n",
       "      <td>0.00 %</td>\n",
       "    </tr>\n",
       "    <tr>\n",
       "      <th>233</th>\n",
       "      <td>Tokelau</td>\n",
       "      <td>1,357</td>\n",
       "      <td>1.27 %</td>\n",
       "      <td>17</td>\n",
       "      <td>136</td>\n",
       "      <td>10</td>\n",
       "      <td>NaN</td>\n",
       "      <td>NaN</td>\n",
       "      <td>NaN</td>\n",
       "      <td>0 %</td>\n",
       "      <td>0.00 %</td>\n",
       "    </tr>\n",
       "    <tr>\n",
       "      <th>234</th>\n",
       "      <td>Holy See</td>\n",
       "      <td>801</td>\n",
       "      <td>0.25 %</td>\n",
       "      <td>2</td>\n",
       "      <td>2,003</td>\n",
       "      <td>0</td>\n",
       "      <td>NaN</td>\n",
       "      <td>NaN</td>\n",
       "      <td>NaN</td>\n",
       "      <td>NaN</td>\n",
       "      <td>0.00 %</td>\n",
       "    </tr>\n",
       "  </tbody>\n",
       "</table>\n",
       "</div>"
      ],
      "text/plain": [
       "    Country (or dependency) Population (2020) Yearly Change Net Change  \\\n",
       "230              Montserrat             4,992        0.06 %          3   \n",
       "231        Falkland Islands             3,480        3.05 %        103   \n",
       "232                    Niue             1,626        0.68 %         11   \n",
       "233                 Tokelau             1,357        1.27 %         17   \n",
       "234                Holy See               801        0.25 %          2   \n",
       "\n",
       "    Density (P/Km²) Land Area (Km²) Migrants (net) Fert. Rate Med. Age  \\\n",
       "230              50             100            NaN        NaN      NaN   \n",
       "231               0          12,170            NaN        NaN      NaN   \n",
       "232               6             260            NaN        NaN      NaN   \n",
       "233             136              10            NaN        NaN      NaN   \n",
       "234           2,003               0            NaN        NaN      NaN   \n",
       "\n",
       "    Urban Pop % World Share  \n",
       "230        10 %      0.00 %  \n",
       "231        66 %      0.00 %  \n",
       "232        46 %      0.00 %  \n",
       "233         0 %      0.00 %  \n",
       "234         NaN      0.00 %  "
      ]
     },
     "execution_count": 13,
     "metadata": {},
     "output_type": "execute_result"
    }
   ],
   "source": [
    "df.tail() # viewing last 5 observation"
   ]
  },
  {
   "cell_type": "code",
   "execution_count": 14,
   "metadata": {},
   "outputs": [
    {
     "data": {
      "text/plain": [
       "Country (or dependency)     0\n",
       "Population (2020)           0\n",
       "Yearly Change               0\n",
       "Net Change                  0\n",
       "Density (P/Km²)             0\n",
       "Land Area (Km²)             0\n",
       "Migrants (net)             34\n",
       "Fert. Rate                 34\n",
       "Med. Age                   34\n",
       "Urban Pop %                13\n",
       "World Share                 0\n",
       "dtype: int64"
      ]
     },
     "execution_count": 14,
     "metadata": {},
     "output_type": "execute_result"
    }
   ],
   "source": [
    "df.isna().sum() # total null values in our dataset"
   ]
  },
  {
   "cell_type": "markdown",
   "metadata": {},
   "source": [
    "- now we can see that how much is our null values in each variables\n",
    "- Migrants, Fert. Rate, Med. Age, Urban Pop % have missing values"
   ]
  },
  {
   "cell_type": "markdown",
   "metadata": {},
   "source": [
    "#### **Renaming variables for better analysis.**"
   ]
  },
  {
   "cell_type": "code",
   "execution_count": 15,
   "metadata": {},
   "outputs": [
    {
     "data": {
      "text/plain": [
       "Index(['Country (or dependency)', 'Population (2020)', 'Yearly Change',\n",
       "       'Net Change', 'Density (P/Km²)', 'Land Area (Km²)', 'Migrants (net)',\n",
       "       'Fert. Rate', 'Med. Age', 'Urban Pop %', 'World Share'],\n",
       "      dtype='object')"
      ]
     },
     "execution_count": 15,
     "metadata": {},
     "output_type": "execute_result"
    }
   ],
   "source": [
    "df.columns # viewing columns we have"
   ]
  },
  {
   "cell_type": "code",
   "execution_count": 16,
   "metadata": {},
   "outputs": [],
   "source": [
    "# renaming variables for better analysis \n",
    "df = df.rename(columns={\n",
    "    'Country (or dependency)':'country',\n",
    "    'Population (2020)':'population',\n",
    "    'Yearly Change':'yearly_change',\n",
    "    'Net Change':'net_change',\n",
    "    'Density (P/Km²)':'density',\n",
    "    'Land Area (Km²)':'land_area',\n",
    "    'Migrants (net)':'migrants',\n",
    "    'Fert. Rate':'fertility_rate',\n",
    "    'Med. Age':'med_age',\n",
    "    'Urban Pop %':'urban_pop',\n",
    "    'World Share':'world_share',\n",
    "})"
   ]
  },
  {
   "cell_type": "code",
   "execution_count": 17,
   "metadata": {},
   "outputs": [
    {
     "data": {
      "text/plain": [
       "Index(['country', 'population', 'yearly_change', 'net_change', 'density',\n",
       "       'land_area', 'migrants', 'fertility_rate', 'med_age', 'urban_pop',\n",
       "       'world_share'],\n",
       "      dtype='object')"
      ]
     },
     "execution_count": 17,
     "metadata": {},
     "output_type": "execute_result"
    }
   ],
   "source": [
    "df.columns # viewing columns we have"
   ]
  },
  {
   "cell_type": "markdown",
   "metadata": {},
   "source": [
    "- now we can see that our variables have been renamed in a proper way"
   ]
  },
  {
   "cell_type": "code",
   "execution_count": 18,
   "metadata": {},
   "outputs": [],
   "source": [
    "comma_dtype = ['population','net_change','density','land_area','migrants','fertility_rate','med_age'] # selecting variables with comma in their entries\n",
    "for i in comma_dtype: # iterating in variable having comma in their entries\n",
    "    df[i] = df[i].str.replace(',', '') # removing comma from entries\n",
    "df['yearly_change'] = df['yearly_change'].str.replace('%', '') # removing % sign from entries\n",
    "df['urban_pop'] = df['urban_pop'].str.replace('%', '') # removing % sign from entries\n",
    "df['world_share'] = df['world_share'].str.replace('%', '') # removing % sign from entries"
   ]
  },
  {
   "cell_type": "markdown",
   "metadata": {},
   "source": [
    "- here I removed comma signs having in numeric variable and also for % signs so that it can be convert into numeric data"
   ]
  },
  {
   "cell_type": "code",
   "execution_count": 19,
   "metadata": {},
   "outputs": [],
   "source": [
    "# selecting data types that wrongly read\n",
    "chnge_dtype = ['population','yearly_change','net_change','density','land_area','migrants','fertility_rate','med_age','urban_pop','world_share']\n",
    "for i in chnge_dtype: # iterating through wrongly read data type\n",
    "    df[i] =  pd.to_numeric(df[i], errors='coerce') # changing their data type to numeric "
   ]
  },
  {
   "cell_type": "code",
   "execution_count": 20,
   "metadata": {
    "scrolled": true
   },
   "outputs": [
    {
     "name": "stdout",
     "output_type": "stream",
     "text": [
      "<class 'pandas.core.frame.DataFrame'>\n",
      "Int64Index: 235 entries, 0 to 234\n",
      "Data columns (total 11 columns):\n",
      " #   Column          Non-Null Count  Dtype  \n",
      "---  ------          --------------  -----  \n",
      " 0   country         235 non-null    object \n",
      " 1   population      235 non-null    int64  \n",
      " 2   yearly_change   235 non-null    float64\n",
      " 3   net_change      235 non-null    int64  \n",
      " 4   density         235 non-null    int64  \n",
      " 5   land_area       235 non-null    int64  \n",
      " 6   migrants        201 non-null    float64\n",
      " 7   fertility_rate  201 non-null    float64\n",
      " 8   med_age         201 non-null    float64\n",
      " 9   urban_pop       222 non-null    float64\n",
      " 10  world_share     235 non-null    float64\n",
      "dtypes: float64(6), int64(4), object(1)\n",
      "memory usage: 22.0+ KB\n"
     ]
    }
   ],
   "source": [
    "df.info() # confirming or data type got changed or not also for null values"
   ]
  },
  {
   "cell_type": "markdown",
   "metadata": {},
   "source": [
    "#### **Top three countries based on the density variable.**"
   ]
  },
  {
   "cell_type": "code",
   "execution_count": 21,
   "metadata": {
    "scrolled": true
   },
   "outputs": [
    {
     "data": {
      "image/png": "[encoded data removed]",
      "text/plain": [
       "<Figure size 720x432 with 1 Axes>"
      ]
     },
     "metadata": {
      "needs_background": "light"
     },
     "output_type": "display_data"
    }
   ],
   "source": [
    "plt.figure(figsize=(10,6)) # figure size\n",
    "sns.barplot(data=df.sort_values('density',ascending=False).head(3), x = 'density', y='country') # configuring the bar plot\n",
    "plt.title('Top 3 Country based on Density',fontsize = 15) # giving title and its size\n",
    "plt.xlabel('Density', fontsize = 12) # giving x-axis title and its size\n",
    "plt.ylabel('Country', fontsize = 12) # giving y-axis title and its size\n",
    "plt.show() # visualizing the chart"
   ]
  },
  {
   "cell_type": "markdown",
   "metadata": {},
   "source": [
    "#### **Country that has the highest and lowest fertility rate.**"
   ]
  },
  {
   "cell_type": "code",
   "execution_count": 22,
   "metadata": {},
   "outputs": [
    {
     "data": {
      "text/html": [
       "<div>\n",
       "<style scoped>\n",
       "    .dataframe tbody tr th:only-of-type {\n",
       "        vertical-align: middle;\n",
       "    }\n",
       "\n",
       "    .dataframe tbody tr th {\n",
       "        vertical-align: top;\n",
       "    }\n",
       "\n",
       "    .dataframe thead th {\n",
       "        text-align: right;\n",
       "    }\n",
       "</style>\n",
       "<table border=\"1\" class=\"dataframe\">\n",
       "  <thead>\n",
       "    <tr style=\"text-align: right;\">\n",
       "      <th></th>\n",
       "      <th>country</th>\n",
       "      <th>population</th>\n",
       "      <th>yearly_change</th>\n",
       "      <th>net_change</th>\n",
       "      <th>density</th>\n",
       "      <th>land_area</th>\n",
       "      <th>migrants</th>\n",
       "      <th>fertility_rate</th>\n",
       "      <th>med_age</th>\n",
       "      <th>urban_pop</th>\n",
       "      <th>world_share</th>\n",
       "    </tr>\n",
       "  </thead>\n",
       "  <tbody>\n",
       "    <tr>\n",
       "      <th>55</th>\n",
       "      <td>Niger</td>\n",
       "      <td>24206644</td>\n",
       "      <td>3.84</td>\n",
       "      <td>895929</td>\n",
       "      <td>19</td>\n",
       "      <td>1266700</td>\n",
       "      <td>4000.0</td>\n",
       "      <td>7.0</td>\n",
       "      <td>15.0</td>\n",
       "      <td>17.0</td>\n",
       "      <td>0.31</td>\n",
       "    </tr>\n",
       "  </tbody>\n",
       "</table>\n",
       "</div>"
      ],
      "text/plain": [
       "   country  population  yearly_change  net_change  density  land_area  \\\n",
       "55   Niger    24206644           3.84      895929       19    1266700   \n",
       "\n",
       "    migrants  fertility_rate  med_age  urban_pop  world_share  \n",
       "55    4000.0             7.0     15.0       17.0         0.31  "
      ]
     },
     "execution_count": 22,
     "metadata": {},
     "output_type": "execute_result"
    }
   ],
   "source": [
    "high_fertility = df.sort_values('fertility_rate',ascending=False).head(1) # sorting to highest fertility\n",
    "high_fertility "
   ]
  },
  {
   "cell_type": "code",
   "execution_count": 23,
   "metadata": {},
   "outputs": [
    {
     "data": {
      "text/html": [
       "<div>\n",
       "<style scoped>\n",
       "    .dataframe tbody tr th:only-of-type {\n",
       "        vertical-align: middle;\n",
       "    }\n",
       "\n",
       "    .dataframe tbody tr th {\n",
       "        vertical-align: top;\n",
       "    }\n",
       "\n",
       "    .dataframe thead th {\n",
       "        text-align: right;\n",
       "    }\n",
       "</style>\n",
       "<table border=\"1\" class=\"dataframe\">\n",
       "  <thead>\n",
       "    <tr style=\"text-align: right;\">\n",
       "      <th></th>\n",
       "      <th>country</th>\n",
       "      <th>population</th>\n",
       "      <th>yearly_change</th>\n",
       "      <th>net_change</th>\n",
       "      <th>density</th>\n",
       "      <th>land_area</th>\n",
       "      <th>migrants</th>\n",
       "      <th>fertility_rate</th>\n",
       "      <th>med_age</th>\n",
       "      <th>urban_pop</th>\n",
       "      <th>world_share</th>\n",
       "    </tr>\n",
       "  </thead>\n",
       "  <tbody>\n",
       "    <tr>\n",
       "      <th>27</th>\n",
       "      <td>South Korea</td>\n",
       "      <td>51269185</td>\n",
       "      <td>0.09</td>\n",
       "      <td>43877</td>\n",
       "      <td>527</td>\n",
       "      <td>97230</td>\n",
       "      <td>11731.0</td>\n",
       "      <td>1.1</td>\n",
       "      <td>44.0</td>\n",
       "      <td>82.0</td>\n",
       "      <td>0.66</td>\n",
       "    </tr>\n",
       "  </tbody>\n",
       "</table>\n",
       "</div>"
      ],
      "text/plain": [
       "        country  population  yearly_change  net_change  density  land_area  \\\n",
       "27  South Korea    51269185           0.09       43877      527      97230   \n",
       "\n",
       "    migrants  fertility_rate  med_age  urban_pop  world_share  \n",
       "27   11731.0             1.1     44.0       82.0         0.66  "
      ]
     },
     "execution_count": 23,
     "metadata": {},
     "output_type": "execute_result"
    }
   ],
   "source": [
    "lowest_fertility = df.sort_values('fertility_rate').head(1) # sorting to lowest fertility \n",
    "lowest_fertility"
   ]
  },
  {
   "cell_type": "markdown",
   "metadata": {},
   "source": [
    "- niger country has the highest fertility rate of 7.0\n",
    "- South Korea has the lowest fertility rate of 1.1"
   ]
  },
  {
   "cell_type": "markdown",
   "metadata": {},
   "source": [
    "#### **Examining the distribution of Population, Median age and Urban population and Yearly change.**"
   ]
  },
  {
   "cell_type": "code",
   "execution_count": 24,
   "metadata": {},
   "outputs": [
    {
     "data": {
      "image/png": "[encoded data removed]",
      "text/plain": [
       "<Figure size 360x360 with 1 Axes>"
      ]
     },
     "metadata": {
      "needs_background": "light"
     },
     "output_type": "display_data"
    },
    {
     "data": {
      "image/png": "[encoded data removed]",
      "text/plain": [
       "<Figure size 360x360 with 1 Axes>"
      ]
     },
     "metadata": {
      "needs_background": "light"
     },
     "output_type": "display_data"
    },
    {
     "data": {
      "image/png": "[encoded data removed]",
      "text/plain": [
       "<Figure size 360x360 with 1 Axes>"
      ]
     },
     "metadata": {
      "needs_background": "light"
     },
     "output_type": "display_data"
    },
    {
     "data": {
      "image/png": "[encoded data removed]",
      "text/plain": [
       "<Figure size 360x360 with 1 Axes>"
      ]
     },
     "metadata": {
      "needs_background": "light"
     },
     "output_type": "display_data"
    }
   ],
   "source": [
    "dist_col = ['population', 'med_age', 'urban_pop', 'yearly_change'] # columns to show distribution\n",
    "for i in dist_col: # iterating\n",
    "    sns.displot(data=df, x = i, kde=True, color='green') # configuring our distribution chart\n",
    "    plt.axvline(x=df[i].mean(), color='red', alpha=0.5, label= 'Mean') # creating Mean line in chart\n",
    "    plt.axvline(x=df[i].median(), color='blue', alpha=0.5, label= 'Median') # creating Median line in chart\n",
    "    plt.title(f'Distribution of {i.capitalize()}', fontsize = 15) # giving title and its size\n",
    "    plt.xlabel(f'{i.capitalize()}',fontsize = 12) # giving x-axis title and its size\n",
    "    plt.ylabel('Count',fontsize = 12) # giving y-axis title and its size\n",
    "    plt.legend() # for showing legend in chart\n",
    "    plt.show() # visualizing the chart`"
   ]
  },
  {
   "cell_type": "code",
   "execution_count": 25,
   "metadata": {},
   "outputs": [
    {
     "name": "stdout",
     "output_type": "stream",
     "text": [
      "     Population        \n",
      "Mean     :  33171202.68\n",
      "Median   :  5459642.0\n",
      "Skewness :  9.23\n",
      "\n",
      "     Med_age        \n",
      "Mean     :  30.62\n",
      "Median   :  30.0\n",
      "Skewness :  0.11\n",
      "\n",
      "     Urban_pop        \n",
      "Mean     :  59.45\n",
      "Median   :  61.5\n",
      "Skewness :  -0.36\n",
      "\n",
      "     Yearly_change        \n",
      "Mean     :  1.1\n",
      "Median   :  0.97\n",
      "Skewness :  0.16\n",
      "\n"
     ]
    }
   ],
   "source": [
    "for i in dist_col:\n",
    "    print(f'     {i.capitalize()}        ')\n",
    "    print('Mean     : ' , round(df[i].mean(),2)) # mean \n",
    "    print('Median   : ' , round(df[i].median(),2)) # median \n",
    "    print('Skewness : ' , round(df[i].skew(),2)) # skewness \n",
    "    print()"
   ]
  },
  {
   "cell_type": "markdown",
   "metadata": {},
   "source": [
    "**Conclusion**\n",
    "| **skew** | **range**| **variable** |\n",
    "| - | - | - |\n",
    "| **highly** | <-1 & >1 | Population |\n",
    "| **moderate** | (-1 to -0.5) & (0.5 to 1)| None |\n",
    "| **symmetrical** | -0.5 to 0.5 | Median Age, Urban Population, Yearly Change |"
   ]
  },
  {
   "cell_type": "markdown",
   "metadata": {},
   "source": [
    "#### **Sorting population variable based on lowest populated countries**"
   ]
  },
  {
   "cell_type": "code",
   "execution_count": 26,
   "metadata": {},
   "outputs": [
    {
     "data": {
      "image/png": "[encoded data removed]",
      "text/plain": [
       "<Figure size 720x432 with 1 Axes>"
      ]
     },
     "metadata": {
      "needs_background": "light"
     },
     "output_type": "display_data"
    }
   ],
   "source": [
    "sorted_population = df.sort_values('population') # dataframe with sorted population column\n",
    "plt.figure(figsize=(10,6)) # figure size\n",
    "sns.barplot(data=sorted_population.head(5), x = 'population', y='country') # configuring our bar plot\n",
    "plt.title('Country have lowest population',fontsize = 15) # giving title and its size\n",
    "plt.xlabel('Population', fontsize = 12) # giving x-axis title and its size\n",
    "plt.ylabel('Country', fontsize = 12) # giving y-axis title and its size\n",
    "plt.show() # visualizing the chart"
   ]
  },
  {
   "cell_type": "markdown",
   "metadata": {},
   "source": [
    "- Holy See has lowest population followed by Tokelau, Niue, Falkland Islands and Montserrat."
   ]
  }
 ],
 "metadata": {
  "interpreter": {
   "hash": "780e223e49c598b4aa82d8318c6f1e6744c8b409488091a69e61e480bdf1c54b"
  },
  "kernelspec": {
   "display_name": "Python 3 (ipykernel)",
   "language": "python",
   "name": "python3"
  },
  "language_info": {
   "codemirror_mode": {
    "name": "ipython",
    "version": 3
   },
   "file_extension": ".py",
   "mimetype": "text/x-python",
   "name": "python",
   "nbconvert_exporter": "python",
   "pygments_lexer": "ipython3",
   "version": "3.9.7"
  }
 },
 "nbformat": 4,
 "nbformat_minor": 2
}
